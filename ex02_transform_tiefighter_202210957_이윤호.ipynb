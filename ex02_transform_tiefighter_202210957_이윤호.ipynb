{
  "nbformat": 4,
  "nbformat_minor": 0,
  "metadata": {
    "colab": {
      "provenance": [],
      "include_colab_link": true
    },
    "kernelspec": {
      "name": "python3",
      "display_name": "Python 3"
    },
    "language_info": {
      "name": "python"
    }
  },
  "cells": [
    {
      "cell_type": "markdown",
      "metadata": {
        "id": "view-in-github",
        "colab_type": "text"
      },
      "source": [
        "<a href=\"https://colab.research.google.com/github/leeyh1011/-linear-algebra-2/blob/main/ex02_transform_tiefighter_202210957_%EC%9D%B4%EC%9C%A4%ED%98%B8.ipynb\" target=\"_parent\"><img src=\"https://colab.research.google.com/assets/colab-badge.svg\" alt=\"Open In Colab\"/></a>"
      ]
    },
    {
      "cell_type": "markdown",
      "source": [
        "### 라이브러리 선언"
      ],
      "metadata": {
        "id": "VcKvO8KcJ9AJ"
      }
    },
    {
      "cell_type": "code",
      "source": [
        "import numpy as np\n",
        "import matplotlib.pyplot as plt\n",
        "from matplotlib.patches import Polygon\n",
        "import math\n",
        "\n",
        "INF = 1000  # 그림판 크기\n",
        "LEN = 100   # 처음 사각형의 크기"
      ],
      "metadata": {
        "id": "uwkBDldBERem"
      },
      "execution_count": 283,
      "outputs": []
    },
    {
      "cell_type": "markdown",
      "source": [
        "### 축 그리기 및 사각형 그리기"
      ],
      "metadata": {
        "id": "eSiS-XHya1FY"
      }
    },
    {
      "cell_type": "code",
      "source": [
        "def draw_axis(ax):\n",
        "  ax.axhline(0, color='black', alpha=0.3)  # x-axis line\n",
        "  ax.axvline(0, color='black', alpha=0.3)  # y-axis line\n",
        "  ax.set_xlim(-INF, INF)\n",
        "  ax.set_ylim(-INF, INF)\n",
        "  ax.set_aspect('equal')  # 정사각형 모양으로 backboard 그리기"
      ],
      "metadata": {
        "id": "_fc5wJBeKXDN"
      },
      "execution_count": 284,
      "outputs": []
    },
    {
      "cell_type": "code",
      "source": [
        "def draw_rectangle(ax, p1, p2, p3, p4):\n",
        "  my_polygon = Polygon([p1, p2, p3, p4])\n",
        "  ax.add_patch(my_polygon)"
      ],
      "metadata": {
        "id": "0XC7sFs9Hf3e"
      },
      "execution_count": 285,
      "outputs": []
    },
    {
      "cell_type": "code",
      "source": [
        "def draw_object(ax):\n",
        "  p1 = np.array([0, 0])\n",
        "  p2 = np.array([LEN, 0])\n",
        "  p3 = np.array([LEN, LEN])\n",
        "  p4 = np.array([0, LEN])\n",
        "\n",
        "  draw_rectangle(ax, p1, p2, p3, p4)"
      ],
      "metadata": {
        "id": "9_fAE1_kPjsv"
      },
      "execution_count": 286,
      "outputs": []
    },
    {
      "cell_type": "code",
      "source": [
        "# 그림판 선언 및 크기 설정\n",
        "\n",
        "fig, ax = plt.subplots(figsize=(7,7))\n",
        "\n",
        "# 축 그리기\n",
        "draw_axis(ax)\n",
        "\n",
        "# 물체 그리기\n",
        "draw_object(ax)\n",
        "\n",
        "plt.show()"
      ],
      "metadata": {
        "colab": {
          "base_uri": "https://localhost:8080/",
          "height": 605
        },
        "id": "L3r3ar9FQDKI",
        "outputId": "464d625d-0a4e-4895-b273-af5b8d057ae1"
      },
      "execution_count": 287,
      "outputs": [
        {
          "output_type": "display_data",
          "data": {
            "text/plain": [
              "<Figure size 700x700 with 1 Axes>"
            ],
            "image/png": "[encoded data removed]"
          },
          "metadata": {}
        }
      ]
    },
    {
      "cell_type": "markdown",
      "source": [
        "### 본론\n",
        "#### 1. 변환 구현\n",
        "* translate(p, dx, dy)\n",
        "* rotate(p, theta)  \n",
        "* scale(p, sx, sy)  \n",
        "* shear_x(p, sx)  \n",
        "* shear_y(p, sy)  \n",
        "* reflect_x(p)  \n",
        "* reflect_y(p)   \n",
        "* ..."
      ],
      "metadata": {
        "id": "6txnl6M2PeUz"
      }
    },
    {
      "cell_type": "code",
      "source": [
        "# 점 p를 x축 방향으로 dx만큼, y축 방향으로 dy만큼 이동시킨 점 q를 구할 것\n",
        "# q = T(dx, dy) p1\n",
        "def translate(p, dx, dy):\n",
        "  # 1. 동차좌표계 (homogeneous coordinate)으로 변환\n",
        "  hp = np.array([p[0], p[1], 1.0])\n",
        "\n",
        "  # 2. 이동 변환 행렬 생성\n",
        "  m = np.array([[1.0, 0.0, dx], [0.0, 1.0, dy], [0.0, 0.0, 1.0]])\n",
        "  \n",
        "  # 3. 행렬과 벡터의 곱\n",
        "  q = np.dot(m, hp)  # (3,3) x (3,1) -> (3,1)\n",
        "  #print(q)\n",
        "\n",
        "  # 4. 2차원 좌표계로 변환\n",
        "  q = np.array([q[0], q[1]])\n",
        "  return q"
      ],
      "metadata": {
        "id": "g1iKgeNoP-Bu"
      },
      "execution_count": 304,
      "outputs": []
    },
    {
      "cell_type": "code",
      "source": [
        "# 크기 변환\n",
        "def scale(p, sx, sy):\n",
        "\n",
        "  # 1. 동차좌표계 (homogeneous coordinate)으로 변환\n",
        "  hp = np.array([p[0], p[1], 1.0])\n",
        "\n",
        "  # 2. 이동 변환 행렬 생성\n",
        "  m = np.array([[sx, 0, 0], [0, sy, 0], [0, 0, 1]])\n",
        "\n",
        "  # 3. 행렬과 벡터의 곱\n",
        "  q = np.dot(m, hp)\n",
        "\n",
        "  # 4. 2차원 좌표계로 변환\n",
        "  q = np.array([q[0], q[1]])\n",
        "  return q"
      ],
      "metadata": {
        "id": "Z7WlfMG640Ru"
      },
      "execution_count": 305,
      "outputs": []
    },
    {
      "cell_type": "code",
      "source": [
        "# 회전 변환\n",
        "def rotate(p, theta):\n",
        "\n",
        "  # 1. 동차좌표계 (homogeneous coordinate)으로 변환\n",
        "  hp = np.array([p[0], p[1], 1.0])\n",
        "\n",
        "  # 2. 이동 변환 행렬 생성\n",
        "  m = np.array([[math.cos(theta), -math.sin(theta), 0], [math.sin(theta), math.cos(theta), 0], [0, 0, 1]])\n",
        "\n",
        "  # 3. 행렬과 벡터의 곱\n",
        "  q = np.dot(m, hp)\n",
        "\n",
        "  # 4. 2차원 좌표계로 변환\n",
        "  q = np.array([q[0], q[1]])\n",
        "  return q"
      ],
      "metadata": {
        "id": "rzZky3tkYm6a"
      },
      "execution_count": 306,
      "outputs": []
    },
    {
      "cell_type": "code",
      "source": [
        "# x축에 대한 기울기 변환\n",
        "def shear_x(p, sx):\n",
        "\n",
        "  # 1. 동차좌표계 (homogeneous coordinate)으로 변환\n",
        "  hp = np.array([p[0], p[1], 1.0])\n",
        "\n",
        "  # 2. 이동 변환 행렬 생성\n",
        "  m = np.array([[1, sx, 0], [0, 1, 0], [0, 0, 1]])\n",
        "\n",
        "  # 3. 행렬과 벡터의 곱\n",
        "  q = np.dot(m, hp)\n",
        "\n",
        "  # 4. 2차원 좌표계로 변환\n",
        "  q = np.array([q[0], q[1]])\n",
        "  return q"
      ],
      "metadata": {
        "id": "G5WqjcImleS7"
      },
      "execution_count": 307,
      "outputs": []
    },
    {
      "cell_type": "code",
      "source": [
        "# y축에 대한 기울기 변환\n",
        "def shear_y(p, sy):\n",
        "\n",
        "  # 1. 동차좌표계 (homogeneous coordinate)으로 변환\n",
        "  hp = np.array([p[0], p[1], 1.0])\n",
        "\n",
        "  # 2. 이동 변환 행렬 생성\n",
        "  m = np.array([[1, 0, 0], [sy, 1, 0], [0, 0, 1]])\n",
        "\n",
        "  # 3. 행렬과 벡터의 곱\n",
        "  q = np.dot(m, hp)\n",
        "\n",
        "  q = np.array([q[0], q[1]])\n",
        "  return q"
      ],
      "metadata": {
        "id": "yRzCDWQqehw5"
      },
      "execution_count": 320,
      "outputs": []
    },
    {
      "cell_type": "code",
      "source": [
        "# x축에 대한 반전\n",
        "def reflect_x(p):\n",
        "\n",
        "  # 1. 동차좌표계 (homogeneous coordinate)으로 변환\n",
        "  hp = np.array([p[0], p[1], 1.0])\n",
        "\n",
        "  # 2. 이동 변환 행렬 생성\n",
        "  m = np.array([[1, 0, 0], [0, -1, 0], [0, 0, 1]])\n",
        "\n",
        "  # 3. 행렬과 벡터의 곱\n",
        "  q = np.dot(m, hp)\n",
        "\n",
        "  # 4. 2차원 좌표계로 변환\n",
        "  q = np.array([q[0], q[1]])\n",
        "  return q"
      ],
      "metadata": {
        "id": "328tp_6tgKeR"
      },
      "execution_count": 309,
      "outputs": []
    },
    {
      "cell_type": "code",
      "source": [
        "# y축에 대한 반전\n",
        "def reflect_y(p):\n",
        "\n",
        "  # 1. 동차좌표계 (homogeneous coordinate)으로 변환\n",
        "  hp = np.array([p[0], p[1], 1.0])\n",
        "\n",
        "  # 2. 이동 변환 행렬 생성\n",
        "  m = np.array([[-1, 0, 0], [0, 1, 0], [0, 0, 1]])\n",
        "\n",
        "  # 3. 행렬과 벡터의 곱\n",
        "  q = np.dot(m, hp)\n",
        "\n",
        "  # 4. 2차원 좌표계로 변환\n",
        "  q = np.array([q[0], q[1]])\n",
        "  return q"
      ],
      "metadata": {
        "id": "Z2IrjWRYgKVC"
      },
      "execution_count": 310,
      "outputs": []
    },
    {
      "cell_type": "code",
      "source": [
        "# 원점에 대한 반전\n",
        "def reflect_0(p):\n",
        "\n",
        "  # 1. 동차좌표계 (homogeneous coordinate)으로 변환\n",
        "  hp = np.array([p[0], p[1], 1.0])\n",
        "\n",
        "  # 2. 이동 변환 행렬 생성\n",
        "  m = np.array([[-1, 0, 0], [0, -1, 0], [0, 0, 1]])\n",
        "\n",
        "  # 3. 행렬과 벡터의 곱\n",
        "  q = np.dot(m, hp)\n",
        "\n",
        "  # 4. 2차원 좌표계로 변환\n",
        "  q = np.array([q[0], q[1]])\n",
        "  return q"
      ],
      "metadata": {
        "id": "TFH60Znnt8cW"
      },
      "execution_count": 311,
      "outputs": []
    },
    {
      "cell_type": "code",
      "source": [
        "# y=x에 대한 반전\n",
        "def reflect_yx(p):\n",
        "\n",
        "  # 1. 동차좌표계 (homogeneous coordinate)으로 변환\n",
        "  hp = np.array([p[0], p[1], 1.0])\n",
        "\n",
        "  # 2. 이동 변환 행렬 생성\n",
        "  m = np.array([[0, 1, 0], [1, 0, 0], [0, 0, 1]])\n",
        "\n",
        "  # 3. 행렬과 벡터의 곱\n",
        "  q = np.dot(m, hp)\n",
        "\n",
        "  # 4. 2차원 좌표계로 변환\n",
        "  q = np.array([q[0], q[1]])\n",
        "  return q"
      ],
      "metadata": {
        "id": "v4zi6PXpuGeJ"
      },
      "execution_count": 312,
      "outputs": []
    },
    {
      "cell_type": "markdown",
      "source": [
        "#### 2. 파트 그리기\n",
        "* draw_cockpit(p1, p2, p3, p4)    # 중앙 조종석\n",
        "* draw_left_arm(p1, p2, p3, p4)   # 왼쪽 날개축\n",
        "* draw_left_wing(p1, p2, p3, p4)  # 왼쪽 날개\n",
        "* draw_right_arm(p1, p2, p3, p4)  # 오른쪽 날개축\n",
        "* draw_right_wing(p1, p2, p3, p4) # 오른쪽 날개"
      ],
      "metadata": {
        "id": "E_jHSezpTC-9"
      }
    },
    {
      "cell_type": "code",
      "source": [
        "def draw_cockpit(ax, p1, p2, p3, p4):  # 중앙 조종석\n",
        "  # 1. 사각형을 원점으로 이동 변환: T(-LEN/2, -LEN/2)\n",
        "  #q = T(-LEN/2, -LEN/2)p\n",
        "  q1 = translate(p1, -LEN/2, -LEN/2)\n",
        "  q2 = translate(p2, -LEN/2, -LEN/2)\n",
        "  q3 = translate(p3, -LEN/2, -LEN/2)\n",
        "  q4 = translate(p4, -LEN/2, -LEN/2)\n",
        "\n",
        "  # 2. 크기 변환: S(5, 5)\n",
        "  s = 5\n",
        "  q1 = scale(q1, s, s)\n",
        "  q2 = scale(q2, s, s)\n",
        "  q3 = scale(q3, s, s)\n",
        "  q4 = scale(q4, s, s)\n",
        "\n",
        "  # 3. 회전 변환: R(pi/4)\n",
        "  q1 = rotate(q1, 3.14/4.0)\n",
        "  q2 = rotate(q2, 3.14/4.0)\n",
        "  q3 = rotate(q3, 3.14/4.0)\n",
        "  q4 = rotate(q4, 3.14/4.0)\n",
        "\n",
        "  # 4. polygon 그리기 \n",
        "  draw_rectangle(ax, q1, q2, q3, q4)"
      ],
      "metadata": {
        "id": "6C7a4CH4HSj0"
      },
      "execution_count": 313,
      "outputs": []
    },
    {
      "cell_type": "code",
      "source": [
        "def draw_left_arm(ax, p1, p2, p3, p4):  # 왼쪽 날개축\n",
        "  # 1. 사각형을 원점으로 이동 변환: T(-LEN/2, -LEN/2)\n",
        "  #q = T(-LEN/2, -LEN/2)p\n",
        "  q1 = translate(p1, -LEN/2+50, -LEN/2-225)\n",
        "  q2 = translate(p2, -LEN/2+50, -LEN/2-225)\n",
        "  q3 = translate(p3, -LEN/2+50, -LEN/2-225)\n",
        "  q4 = translate(p4, -LEN/2+50, -LEN/2-225)\n",
        "\n",
        "  # 2. 크기 변환: S(5, 5)\n",
        "  s = 5\n",
        "  q1 = scale(q1, 1.5*s, 0.2*s)\n",
        "  q2 = scale(q2, 1.5*s, 0.2*s)\n",
        "  q3 = scale(q3, 1.5*s, 0.2*s)\n",
        "  q4 = scale(q4, 1.5*s, 0.2*s)\n",
        "\n",
        "  # 3. 기울기 변환: R(θ)\n",
        "  q1 = shear_y(q1, 0.3)\n",
        "  q2 = shear_y(q2, 0.3)\n",
        "  q3 = shear_y(q3, 0.3)\n",
        "  q4 = shear_y(q4, 0.3)\n",
        "\n",
        "  # 4. polygon 그리기 \n",
        "  draw_rectangle(ax, q1, q2, q3, q4)\n",
        "\n",
        "  # 5. 반전 변환: R(q)\n",
        "  q1 = reflect_x(q1)\n",
        "  q2 = reflect_x(q2)\n",
        "  q3 = reflect_x(q3)\n",
        "  q4 = reflect_x(q4)\n",
        "\n",
        "  # 6. polygon 그리기\n",
        "  draw_rectangle(ax, q1, q2, q3, q4)"
      ],
      "metadata": {
        "id": "gUwELXyGj6lF"
      },
      "execution_count": 314,
      "outputs": []
    },
    {
      "cell_type": "code",
      "source": [
        "def draw_left_wing(ax, p1, p2, p3, p4):  # 왼쪽 날개\n",
        "  # 1. 사각형을 원점으로 이동 변환: T(-LEN/2, -LEN/2)\n",
        "  #q = T(-LEN/2, -LEN/2)p\n",
        "  q1 = translate(p1, -LEN/2+500, -LEN/2-125)\n",
        "  q2 = translate(p2, -LEN/2+500, -LEN/2-125)\n",
        "  q3 = translate(p3, -LEN/2+500, -LEN/2-125)\n",
        "  q4 = translate(p4, -LEN/2+500, -LEN/2-125)\n",
        "\n",
        "  # 2. 크기 변환: S(5, 5)\n",
        "  s = 5\n",
        "  q1 = scale(q1, 0.3*s, 1.5*s)\n",
        "  q2 = scale(q2, 0.3*s, 1.5*s)\n",
        "  q3 = scale(q3, 0.3*s, 1.5*s)\n",
        "  q4 = scale(q4, 0.3*s, 1.5*s)\n",
        "\n",
        "  # 3. 기울기 변환: R(θ)\n",
        "  q1 = shear_y(q1, 1.5)\n",
        "  q2 = shear_y(q2, 1.5)\n",
        "  q3 = shear_y(q3, 1.5)\n",
        "  q4 = shear_y(q4, 1.5)\n",
        "\n",
        "  # 4. polygon 그리기 \n",
        "  draw_rectangle(ax, q1, q2, q3, q4)\n",
        "  \n",
        "  # 5. 반전 변환: R(q)\n",
        "  q1 = reflect_x(q1)\n",
        "  q2 = reflect_x(q2)\n",
        "  q3 = reflect_x(q3)\n",
        "  q4 = reflect_x(q4)\n",
        "  \n",
        "  # 6. polygon 그리기\n",
        "  draw_rectangle(ax, q1, q2, q3, q4)"
      ],
      "metadata": {
        "id": "2e0S_1oUghMt"
      },
      "execution_count": 315,
      "outputs": []
    },
    {
      "cell_type": "code",
      "source": [
        "def draw_right_arm(ax, p1, p2, p3, p4):  # 오른쪽 날개축\n",
        "  # 1. 사각형을 원점으로 이동 변환: T(-LEN/2, -LEN/2)\n",
        "  #q = T(-LEN/2, -LEN/2)p\n",
        "  q1 = translate(p1, -LEN/2-50, -LEN/2-225)\n",
        "  q2 = translate(p2, -LEN/2-50, -LEN/2-225)\n",
        "  q3 = translate(p3, -LEN/2-50, -LEN/2-225)\n",
        "  q4 = translate(p4, -LEN/2-50, -LEN/2-225)\n",
        "\n",
        "  # 2. 크기 변환: S(5, 5)\n",
        "  s = 5\n",
        "  q1 = scale(q1, 1.5*s, 0.2*s)\n",
        "  q2 = scale(q2, 1.5*s, 0.2*s)\n",
        "  q3 = scale(q3, 1.5*s, 0.2*s)\n",
        "  q4 = scale(q4, 1.5*s, 0.2*s)\n",
        "\n",
        "  # 3. 기울기 변환: R(θ)\n",
        "  q1 = shear_y(q1, -0.3)\n",
        "  q2 = shear_y(q2, -0.3)\n",
        "  q3 = shear_y(q3, -0.3)\n",
        "  q4 = shear_y(q4, -0.3)\n",
        "\n",
        "  # 4. polygon 그리기 \n",
        "  draw_rectangle(ax, q1, q2, q3, q4)\n",
        "\n",
        "  # 5. 반전 변환: R(q)\n",
        "  q1 = reflect_x(q1)\n",
        "  q2 = reflect_x(q2)\n",
        "  q3 = reflect_x(q3)\n",
        "  q4 = reflect_x(q4)\n",
        "\n",
        "  # 6. polygon 그리기\n",
        "  draw_rectangle(ax, q1, q2, q3, q4)"
      ],
      "metadata": {
        "id": "SLVS8_33pZz7"
      },
      "execution_count": 316,
      "outputs": []
    },
    {
      "cell_type": "code",
      "source": [
        "def draw_right_wing(ax, p1, p2, p3, p4):  # 오른쪽 날개\n",
        "  # 1. 사각형을 원점으로 이동 변환: T(-LEN/2, -LEN/2)\n",
        "  #q = T(-LEN/2, -LEN/2)p\n",
        "  q1 = translate(p1, -LEN/2-500, -LEN/2-125)\n",
        "  q2 = translate(p2, -LEN/2-500, -LEN/2-125)\n",
        "  q3 = translate(p3, -LEN/2-500, -LEN/2-125)\n",
        "  q4 = translate(p4, -LEN/2-500, -LEN/2-125)\n",
        "\n",
        "  # 2. 크기 변환: S(5, 5)\n",
        "  s = 5\n",
        "  q1 = scale(q1, 0.3*s, 1.5*s)\n",
        "  q2 = scale(q2, 0.3*s, 1.5*s)\n",
        "  q3 = scale(q3, 0.3*s, 1.5*s)\n",
        "  q4 = scale(q4, 0.3*s, 1.5*s)\n",
        "\n",
        "  # 3. 기울기 변환: R(θ)\n",
        "  q1 = shear_y(q1, -1.5)\n",
        "  q2 = shear_y(q2, -1.5)\n",
        "  q3 = shear_y(q3, -1.5)\n",
        "  q4 = shear_y(q4, -1.5)\n",
        "\n",
        "  # 4. polygon 그리기 \n",
        "  draw_rectangle(ax, q1, q2, q3, q4)\n",
        "  \n",
        "  # 5. 반전 변환: R(q)\n",
        "  q1 = reflect_x(q1)\n",
        "  q2 = reflect_x(q2)\n",
        "  q3 = reflect_x(q3)\n",
        "  q4 = reflect_x(q4)\n",
        "  \n",
        "  # 6. polygon 그리기\n",
        "  draw_rectangle(ax, q1, q2, q3, q4)"
      ],
      "metadata": {
        "id": "KQ_3mTeXpr0O"
      },
      "execution_count": 317,
      "outputs": []
    },
    {
      "cell_type": "code",
      "execution_count": 318,
      "metadata": {
        "id": "hMI0xB0pDlnU"
      },
      "outputs": [],
      "source": [
        "# 2. tiefigher 그리기\n",
        "def draw_object(ax):\n",
        "  p1 = np.array([0, 0])\n",
        "  p2 = np.array([LEN, 0])\n",
        "  p3 = np.array([LEN, LEN])\n",
        "  p4 = np.array([0, LEN])\n",
        "\n",
        "  # 1. 중앙 조종석 그리기\n",
        "\n",
        "  draw_cockpit(ax, p1, p2, p3, p4)\n",
        "\n",
        "  # 2. 왼쪽 날개축 그리기\n",
        "\n",
        "  draw_left_arm(ax, p1, p2, p3, p4)\n",
        "\n",
        "  # 3. 왼쪽 날개 그리기\n",
        "\n",
        "  draw_left_wing(ax, p1, p2, p3, p4)\n",
        "\n",
        "  # 4. 오른쪽 날개축 그리기\n",
        "  \n",
        "  draw_right_arm(ax, p1, p2, p3, p4)\n",
        "\n",
        "  # 5. 오른쪽 날개 그리기\n",
        "\n",
        "  draw_right_wing(ax, p1, p2, p3, p4)"
      ]
    },
    {
      "cell_type": "markdown",
      "source": [
        "### 3. main"
      ],
      "metadata": {
        "id": "24hO1zQaHiFJ"
      }
    },
    {
      "cell_type": "code",
      "source": [
        "# 그림판 선언 및 크기 설정\n",
        "fig, ax = plt.subplots(figsize=(7,7))\n",
        "\n",
        "# 축 그리기\n",
        "draw_axis(ax)\n",
        "\n",
        "# 물체 그리기\n",
        "draw_object(ax)\n",
        "\n",
        "plt.show()"
      ],
      "metadata": {
        "colab": {
          "base_uri": "https://localhost:8080/",
          "height": 605
        },
        "id": "1Bdz-KxWLLHb",
        "outputId": "f0a576bf-5bfa-47a4-ba89-55753edde111"
      },
      "execution_count": 321,
      "outputs": [
        {
          "output_type": "display_data",
          "data": {
            "text/plain": [
              "<Figure size 700x700 with 1 Axes>"
            ],
            "image/png": "[encoded data removed]"
          },
          "metadata": {}
        }
      ]
    }
  ]
}